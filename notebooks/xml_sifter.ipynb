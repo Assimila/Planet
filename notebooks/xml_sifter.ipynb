{
 "cells": [
  {
   "cell_type": "code",
   "execution_count": 36,
   "metadata": {},
   "outputs": [
    {
     "name": "stdout",
     "output_type": "stream",
     "text": [
      "226 files found.\n",
      "\n"
     ]
    }
   ],
   "source": [
    "# coding=utf-8\n",
    "\"\"\"\n",
    "Purpose\n",
    "  The file_sifter script:\n",
    "    - The Planet API does not allow you to specify \"Area Coverage\" so this is\n",
    "      a manual step to remove slither images.\n",
    "\n",
    "    - To open each image and assess the number of noData pixels and delete\n",
    "      those below a user-specified threshold.\n",
    "\n",
    "      Compulsory steps before running the script:\n",
    "      1 - Must first run downloadPlanet_subset.py and store in images/\n",
    "          directory\n",
    "\n",
    "\"\"\"\n",
    "\n",
    "import glob\n",
    "import os\n",
    "import numpy as np\n",
    "from osgeo import gdal\n",
    "\n",
    "def file_sifter(file_location=\"/data/001_planet_sentinel_study/planet/utm11n_sur_ref/images/sift/*.tif\"):\n",
    "\n",
    "    \"\"\"\n",
    "    Function to 'sift' through the data and remove those which do not\n",
    "    cover the AOI by at least the percentage specified.\n",
    "\n",
    "    :param file_location:  Location of the Planet .tif files\n",
    "    :param data_threshold: Percentage of present data required\n",
    "                           for the file to be kept. i.e. data_threshold=30\n",
    "                           means that there must be at least 30% of data\n",
    "                           values in the entire image.\n",
    "\n",
    "    :return: N/A\n",
    "\n",
    "    \"\"\"\n",
    "\n",
    "    filelist = glob.glob(file_location)\n",
    "    print str(len(filelist)) + \" files found.\\n\"\n",
    "    \n",
    "    xml = glob.glob(\"/data/001_planet_sentinel_study/planet/utm11n_sur_ref/xml/*xml.xml\")\n",
    "\n",
    "    for f in filelist:\n",
    "\n",
    "        s = f[66:]\n",
    "        split = s.split('_subarea_')[0]\n",
    "        \n",
    "        pref = \"/data/001_planet_sentinel_study/planet/utm11n_sur_ref/xml/\"\n",
    "        suff = split + \"_xml.xml\"\n",
    "        \n",
    "        comp = pref + suff\n",
    "        \n",
    "        # comp = bad file needs moving\n",
    "        if comp in xml:\n",
    "            os.rename(comp, \"/data/001_planet_sentinel_study/planet/utm11n_sur_ref/xml/sift/\" + split + \"_xml.xml\")\n",
    "            \n",
    "        else:\n",
    "            print \"no\"\n",
    "        \n",
    "\n",
    "# Run the method!\n",
    "file_sifter()\n"
   ]
  },
  {
   "cell_type": "code",
   "execution_count": 38,
   "metadata": {},
   "outputs": [
    {
     "name": "stdout",
     "output_type": "stream",
     "text": [
      "182 files found.\n",
      "\n",
      "0 0\n"
     ]
    }
   ],
   "source": [
    "from shutil import copyfile\n",
    "\n",
    "filelist = glob.glob(\"/data/001_planet_sentinel_study/planet/utm11n_sur_ref/images/*.tif\")\n",
    "print str(len(filelist)) + \" files found.\\n\"\n",
    "    \n",
    "xml = glob.glob(\"/data/001_planet_sentinel_study/planet/utm11n_sur_ref/xml/*xml.xml\")\n",
    "\n",
    "i = 0\n",
    "c = 0\n",
    "\n",
    "for f in filelist:\n",
    "\n",
    "    s = f[61:]\n",
    "    split = s.split('_subarea_')[0]\n",
    "        \n",
    "    pref = \"/data/001_planet_sentinel_study/planet/utm11n_sur_ref/xml/\"\n",
    "    suff = split + \"_xml.xml\"\n",
    "        \n",
    "    comp = pref + suff\n",
    "\n",
    "        \n",
    "    # comp = bad file needs moving\n",
    "    if comp in xml:\n",
    "        copyfile(comp, \"/data/001_planet_sentinel_study/planet/utm11n_sur_ref/bin/\" + split + \"_xml.xml\")   \n",
    "    else:\n",
    "        c +=1\n",
    "        \n",
    "print i, c"
   ]
  }
 ],
 "metadata": {
  "kernelspec": {
   "display_name": "Python 2",
   "language": "python",
   "name": "python2"
  },
  "language_info": {
   "codemirror_mode": {
    "name": "ipython",
    "version": 2
   },
   "file_extension": ".py",
   "mimetype": "text/x-python",
   "name": "python",
   "nbconvert_exporter": "python",
   "pygments_lexer": "ipython2",
   "version": "2.7.14"
  }
 },
 "nbformat": 4,
 "nbformat_minor": 2
}
