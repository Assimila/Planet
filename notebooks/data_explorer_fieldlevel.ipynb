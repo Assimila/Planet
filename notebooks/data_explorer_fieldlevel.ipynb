{
 "cells": [
  {
   "cell_type": "code",
   "execution_count": null,
   "metadata": {
    "collapsed": true
   },
   "outputs": [],
   "source": [
    "from osgeo import gdal\n",
    "from datetime import date, datetime as dt\n",
    "import pandas as pd\n",
    "import numpy as np\n",
    "import matplotlib\n",
    "matplotlib.use(\"nbagg\")\n",
    "import matplotlib.pyplot as plt"
   ]
  },
  {
   "cell_type": "markdown",
   "metadata": {},
   "source": [
    "## Read Planet Data"
   ]
  },
  {
   "cell_type": "code",
   "execution_count": null,
   "metadata": {},
   "outputs": [],
   "source": [
    "planet_fn = \"/data/001_planet_sentinel_study/planet/utm11n_sur_ref/ndvi/planet_ndvi.vrt\"\n",
    "planet = gdal.Open(planet_fn)\n",
    "\n",
    "\n",
    "planet_fns = planet.GetFileList()[1:]\n",
    "planet_dates = [dt.strptime((f.split(\"/\"))[-1][0:15], \"%Y%m%d_%H%M%S\") for f in planet_fns]\n",
    "\n",
    "planet_ndvi = planet.ReadAsArray()\n",
    "print planet_ndvi.shape"
   ]
  },
  {
   "cell_type": "markdown",
   "metadata": {},
   "source": [
    "## Read Sentinel Data"
   ]
  },
  {
   "cell_type": "code",
   "execution_count": null,
   "metadata": {},
   "outputs": [],
   "source": [
    "sentinel_fn = \"/data/001_planet_sentinel_study/sentinel/11SKA_NDVI/sen2_boa_ndvi.vrt\"\n",
    "sentinel = gdal.Open(sentinel_fn)\n",
    "\n",
    "sentinel_fns = sentinel.GetFileList()[1:]\n",
    "sentinel_dates = [dt.strptime((f.split(\"/\"))[-1][5:20], \"%Y%m%d_%H%M%S\") for f in sentinel_fns]\n",
    "\n",
    "sentinel_ndvi = sentinel.ReadAsArray()\n",
    "print sentinel_ndvi.shape\n",
    "\n",
    "# Get lat/lon information\n",
    "transf = sentinel.GetGeoTransform()\n",
    "reslon = transf[1]\n",
    "reslat = transf[5]\n",
    "cols = sentinel.RasterXSize\n",
    "rows = sentinel.RasterYSize\n",
    "LHS = transf[0]\n",
    "THS = transf[3]\n",
    "BHS = THS + (rows * reslat)\n",
    "RHS = LHS + (cols * reslon)\n",
    "\n",
    "latgrid = np.arange(THS, BHS, reslat)\n",
    "longrid = np.arange(LHS, RHS, reslon)"
   ]
  },
  {
   "cell_type": "markdown",
   "metadata": {},
   "source": [
    "## Extract Values from NDVI stack"
   ]
  },
  {
   "cell_type": "code",
   "execution_count": null,
   "metadata": {},
   "outputs": [],
   "source": [
    "tl_pixel_lat = 4062320\n",
    "tl_pixel_lon = 235443\n",
    "\n",
    "br_pixel_lat = 4061520\n",
    "br_pixel_lon = 236117\n",
    "\n",
    "# ===== GET ROW/COLS FOR PIXEL LAT/LON ===== #\n",
    "\n",
    "tl_pix_x = abs(longrid - tl_pixel_lon).argmin()\n",
    "tl_pix_y = abs(latgrid - tl_pixel_lat).argmin()\n",
    "br_pix_x = abs(longrid - br_pixel_lon).argmin()\n",
    "br_pix_y = abs(latgrid - br_pixel_lat).argmin()\n",
    "\n",
    "# ===== EXTRACT SENTINEL VALUES ===== #\n",
    "\n",
    "sentinel_values = []\n",
    "\n",
    "for i in range(0, (sentinel_ndvi.shape)[0]):\n",
    "        \n",
    "    sentinel_values.append(np.nanmean(sentinel_ndvi[i, tl_pix_y:br_pix_y, tl_pix_x:br_pix_x]))\n",
    "    \n",
    "sentinel_df = pd.DataFrame(index = sentinel_dates)\n",
    "sentinel_df['ndvi'] = sentinel_values\n",
    "\n",
    "# ===== EXTRACT PLANET VALUES ===== #\n",
    "\n",
    "planet_values = []\n",
    "\n",
    "for i in range(0, (planet_ndvi.shape)[0]):\n",
    "        \n",
    "    planet_values.append(np.nanmean(planet_ndvi[i, tl_pix_y:br_pix_y, tl_pix_x:br_pix_x]))\n",
    "\n",
    "planet_df = pd.DataFrame(index = planet_dates)\n",
    "planet_df['ndvi'] = planet_values\n",
    "\n",
    "# Get rid of NaN values present in a row\n",
    "#planet_df = planet_df[np.isfinite(planet_df['ndvi'])]\n",
    "\n",
    "print \"Done.\""
   ]
  },
  {
   "cell_type": "markdown",
   "metadata": {},
   "source": [
    "## Extract Values from MODIS csv file"
   ]
  },
  {
   "cell_type": "code",
   "execution_count": null,
   "metadata": {},
   "outputs": [],
   "source": [
    "# ===== MCD43 OPENING... ===== #\n",
    "\n",
    "MCD43 = pd.DataFrame.from_csv(\"/media/DataShare/Taylor/modis/MCD43/bdrf-235799-4061930/BDRF-235799-4061930-MCD43A1-006-results.csv\", index_col=2)\n",
    "\n",
    "MCD43_df = pd.DataFrame(index = MCD43.index)\n",
    "MCD43_df['nir'] = MCD43['MCD43A1_006_BRDF_Albedo_Parameters_Band2_0']\n",
    "MCD43_df['red'] = MCD43['MCD43A1_006_BRDF_Albedo_Parameters_Band1_0']\n",
    "MCD43 = None\n",
    "\n",
    "#MCD43_df = MCD43_df[MCD43_df.nir < 0.4]\n",
    "\n",
    "MCD43_df['ndvi'] = ((MCD43_df.nir-MCD43_df.red)/(MCD43_df.nir+MCD43_df.red))"
   ]
  },
  {
   "cell_type": "markdown",
   "metadata": {},
   "source": [
    "# Plot"
   ]
  },
  {
   "cell_type": "code",
   "execution_count": null,
   "metadata": {},
   "outputs": [],
   "source": [
    "fig, ax = plt.subplots(figsize=(10,5))\n",
    "\n",
    "ax.plot_date(planet_df.index, planet_df['ndvi'], '-', color='Blue', linewidth=2)\n",
    "\n",
    "ax.plot_date(MCD43_df.index, MCD43_df['ndvi'], '-', color='Black', linewidth=2)\n",
    "\n",
    "ax.plot_date(sentinel_df.index, sentinel_df['ndvi'], '-', color='red', linewidth=2)\n",
    "\n",
    "fig.autofmt_xdate()\n",
    "ax.set_xlim([date(2017, 3, 1), date(2017, 9, 30)])\n",
    "ax.set_ylim([0, 0.7])\n",
    "plt.show()"
   ]
  },
  {
   "cell_type": "code",
   "execution_count": null,
   "metadata": {},
   "outputs": [],
   "source": [
    "plt.imshow(planet_ndvi[11,:,:], extent=[LHS, RHS, BHS, THS])\n",
    "plt.show()"
   ]
  },
  {
   "cell_type": "code",
   "execution_count": null,
   "metadata": {
    "collapsed": true
   },
   "outputs": [],
   "source": []
  }
 ],
 "metadata": {
  "kernelspec": {
   "display_name": "Python 2",
   "language": "python",
   "name": "python2"
  },
  "language_info": {
   "codemirror_mode": {
    "name": "ipython",
    "version": 2
   },
   "file_extension": ".py",
   "mimetype": "text/x-python",
   "name": "python",
   "nbconvert_exporter": "python",
   "pygments_lexer": "ipython2",
   "version": "2.7.14"
  }
 },
 "nbformat": 4,
 "nbformat_minor": 2
}
