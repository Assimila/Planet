{
 "cells": [
  {
   "cell_type": "code",
   "execution_count": null,
   "metadata": {
    "collapsed": true
   },
   "outputs": [],
   "source": [
    "from osgeo import gdal\n",
    "from datetime import date, datetime as dt\n",
    "import pandas as pd\n",
    "import numpy as np\n",
    "import matplotlib\n",
    "matplotlib.use(\"nbagg\")\n",
    "import matplotlib.pyplot as plt"
   ]
  },
  {
   "cell_type": "markdown",
   "metadata": {},
   "source": [
    "## Read Planet Data"
   ]
  },
  {
   "cell_type": "code",
   "execution_count": null,
   "metadata": {},
   "outputs": [],
   "source": [
    "planet_fn_red = \"/data/001_planet_sentinel_study/planet/utm11n_sur_ref/images/red/planet_red.vrt\"\n",
    "planet_red = gdal.Open(planet_fn_red)\n",
    "planet_fns = planet_red.GetFileList()[1:]\n",
    "planet_dates = [dt.strptime((f.split(\"/\"))[-1][0:15], \"%Y%m%d_%H%M%S\") for f in planet_fns_red]\n",
    "p_red = planet_red.ReadAsArray()\n",
    "print p_red.shape\n",
    "\n",
    "planet_fn_nir = \"/data/001_planet_sentinel_study/planet/utm11n_sur_ref/images/nir/planet_nir.vrt\"\n",
    "planet_nir = gdal.Open(planet_fn_nir)\n",
    "p_nir = planet_nir.ReadAsArray()\n",
    "print p_nir.shape"
   ]
  },
  {
   "cell_type": "markdown",
   "metadata": {},
   "source": [
    "## Read Sentinel Data"
   ]
  },
  {
   "cell_type": "code",
   "execution_count": null,
   "metadata": {},
   "outputs": [],
   "source": [
    "sentinel_fn_red = \"/data/001_planet_sentinel_study/sentinel/11SKA_REF/sentinel_red.vrt\"\n",
    "sentinel_red = gdal.Open(sentinel_fn_red)\n",
    "s_red = sentinel_red.ReadAsArray()\n",
    "print s_red.shape\n",
    "\n",
    "sentinel_fns = sentinel_red.GetFileList()[1:]\n",
    "sentinel_dates = [dt.strptime((f.split(\"/\"))[-1][5:20], \"%Y%m%d_%H%M%S\") for f in sentinel_fns]\n",
    "\n",
    "sentinel_fn_nir = \"/data/001_planet_sentinel_study/sentinel/11SKA_REF/sentinel_nir.vrt\"\n",
    "sentinel_nir = gdal.Open(sentinel_fn_nir)\n",
    "s_nir = sentinel_nir.ReadAsArray()\n",
    "print s_nir.shape\n",
    "\n",
    "# Get lat/lon information\n",
    "transf = sentinel_red.GetGeoTransform()\n",
    "reslon = transf[1]\n",
    "reslat = transf[5]\n",
    "cols = sentinel_red.RasterXSize\n",
    "rows = sentinel_red.RasterYSize\n",
    "LHS = transf[0]\n",
    "THS = transf[3]\n",
    "BHS = THS + (rows * reslat)\n",
    "RHS = LHS + (cols * reslon)\n",
    "\n",
    "latgrid = np.arange(THS, BHS, reslat)\n",
    "longrid = np.arange(LHS, RHS, reslon)"
   ]
  },
  {
   "cell_type": "markdown",
   "metadata": {},
   "source": [
    "## Extract Values from NDVI stack"
   ]
  },
  {
   "cell_type": "code",
   "execution_count": null,
   "metadata": {},
   "outputs": [],
   "source": [
    "# pixel_lat = 4061930\n",
    "# pixel_lon = 235799\n",
    "\n",
    "# pixel_lat = 4062600\n",
    "# pixel_lon = 242386\n",
    "\n",
    "# pixel_lat = 4059460\n",
    "# pixel_lon = 235438\n",
    "\n",
    "# pixel_lat = 4056980\n",
    "# pixel_lon = 240191\n",
    "\n",
    "pixel_lat = 4063520\n",
    "pixel_lon = 235633\n",
    "\n",
    "# ===== GET ROW/COLS FOR PIXEL LAT/LON ===== #\n",
    "\n",
    "tpix_x = abs(longrid - pixel_lon).argmin()\n",
    "tpix_y = abs(latgrid - pixel_lat).argmin()\n",
    "\n",
    "print tpix_x, tpix_y\n",
    "\n",
    "# ===== EXTRACT SENTINEL VALUES ===== #\n",
    "\n",
    "sentinel_r = []\n",
    "sentinel_n = []\n",
    "\n",
    "for i in range(0, (s_red.shape)[0]):\n",
    "        \n",
    "    sentinel_r.append(s_red[i, tpix_y, tpix_x])\n",
    "    sentinel_n.append(s_nir[i, tpix_y, tpix_x])\n",
    "    \n",
    "sentinel_df = pd.DataFrame(index = sentinel_dates)\n",
    "sentinel_df['red'] = sentinel_r\n",
    "sentinel_df['nir'] = sentinel_n\n",
    "\n",
    "# ===== EXTRACT PLANET VALUES ===== #\n",
    "\n",
    "planet_r = []\n",
    "planet_n = []\n",
    "\n",
    "for i in range(0, (p_nir.shape)[0]):\n",
    "        \n",
    "    planet_r.append(p_red[i, tpix_y, tpix_x])\n",
    "    planet_n.append(p_nir[i, tpix_y, tpix_x])\n",
    "\n",
    "planet_df = pd.DataFrame(index = planet_dates)\n",
    "planet_df['red'] = planet_r\n",
    "planet_df['nir'] = planet_n\n",
    "\n",
    "# Get rid of NaN values present in a row\n",
    "#planet_df = planet_df[np.isfinite(planet_df['ndvi'])]\n",
    "planet_df = planet_df.drop(planet_df[(planet_df.red == 0)].index)\n",
    "\n",
    "print \"Done.\""
   ]
  },
  {
   "cell_type": "markdown",
   "metadata": {},
   "source": [
    "## Extract Values from MODIS csv file"
   ]
  },
  {
   "cell_type": "code",
   "execution_count": null,
   "metadata": {
    "collapsed": true
   },
   "outputs": [],
   "source": [
    "# ===== MCD43 OPENING... ===== #\n",
    "\n",
    "MCD43 = pd.DataFrame.from_csv(\"/media/DataShare/Taylor/modis/MCD43/bdrf-\" + str(pixel_lon) + \"-\" + str(pixel_lat) + \"/BDRF-\" + str(pixel_lon) + \"-\" + str(pixel_lat) + \"-MCD43A1-006-results.csv\", index_col=2)\n",
    "\n",
    "MCD43_df = pd.DataFrame(index = MCD43.index)\n",
    "MCD43_df['nir'] = MCD43['MCD43A1_006_BRDF_Albedo_Parameters_Band2_0']\n",
    "MCD43_df['red'] = MCD43['MCD43A1_006_BRDF_Albedo_Parameters_Band1_0']\n",
    "MCD43 = None\n",
    "\n",
    "# MCD43_df = MCD43_df[MCD43_df.nir < 0.4]\n",
    "\n",
    "# MCD43_df['ndvi'] = ((MCD43_df.nir-MCD43_df.red)/(MCD43_df.nir+MCD43_df.red))\n",
    "\n"
   ]
  },
  {
   "cell_type": "markdown",
   "metadata": {},
   "source": [
    "# Plot"
   ]
  },
  {
   "cell_type": "code",
   "execution_count": null,
   "metadata": {},
   "outputs": [],
   "source": [
    "fig, ax = plt.subplots(figsize=(10,5))\n",
    "\n",
    "ax.plot_date(planet_df.index, planet_df['red'], '-', color='red', linewidth=1, label=\"p red\")\n",
    "ax.plot_date(planet_df.index, planet_df['nir'], '-', color='gray', linewidth=1, label=\"p nir\")\n",
    "\n",
    "# ax.plot_date(MCD43_df.index, MCD43_df['red'], '-', color='Black', linewidth=2)\n",
    "# ax.plot_date(MCD43_df.index, MCD43_df['nir'], '-', color='Black', linewidth=2)\n",
    "\n",
    "ax.plot_date(sentinel_df.index, sentinel_df['red'], '-', color='red', linewidth=3, label=\"s red\")\n",
    "ax.plot_date(sentinel_df.index, sentinel_df['nir'], '-', color='gray', linewidth=3, label=\"s nir\")\n",
    "\n",
    "fig.autofmt_xdate()\n",
    "ax.set_xlim([date(2017, 3, 1), date(2017, 9, 30)])\n",
    "ax.set_ylim([0, 5000])\n",
    "\n",
    "plt.legend()\n",
    "plt.show()"
   ]
  },
  {
   "cell_type": "code",
   "execution_count": null,
   "metadata": {},
   "outputs": [],
   "source": [
    "plt.imshow(planet_ndvi[11,:,:], extent=[LHS, RHS, BHS, THS])\n",
    "plt.scatter(pixel_lon, pixel_lat, color='pink')\n",
    "plt.show()"
   ]
  },
  {
   "cell_type": "code",
   "execution_count": null,
   "metadata": {
    "collapsed": true
   },
   "outputs": [],
   "source": [
    "# # ===== MOD09 OPENING... ===== #\n",
    "\n",
    "# MOD09 = pd.DataFrame.from_csv(\"/media/DataShare/Taylor/modis/MOD09/MOD09-MOD09GQ-006-results.csv\", index_col=2)\n",
    "\n",
    "# MOD09_df = pd.DataFrame(index = MOD09.index)\n",
    "# MOD09_df['nir'] = MOD09['MOD09GQ_006_sur_refl_b02_1']\n",
    "# MOD09_df['red'] = MOD09['MOD09GQ_006_sur_refl_b01_1']\n",
    "# MOD09 = None\n",
    "\n",
    "# MOD09_df = MOD09_df[MOD09_df.nir < 0.4]\n",
    "\n",
    "# MOD09_df['ndvi'] = ((MOD09_df.nir-MOD09_df.red)/(MOD09_df.nir+MOD09_df.red))\n",
    "\n",
    "# # ===== MYD09 OPENING... ===== #\n",
    "\n",
    "# MYD09 = pd.DataFrame.from_csv(\"/media/DataShare/Taylor/modis/MYD09/MYD09-MYD09GQ-006-results.csv\", index_col=2)\n",
    "\n",
    "# MYD09_df = pd.DataFrame(index = MYD09.index)\n",
    "# MYD09_df['nir'] = MYD09['MYD09GQ_006_sur_refl_b02_1']\n",
    "# MYD09_df['red'] = MYD09['MYD09GQ_006_sur_refl_b01_1']\n",
    "# MYD09 = None\n",
    "\n",
    "# MYD09_df = MYD09_df[MYD09_df.nir < 0.4]\n",
    "\n",
    "# MYD09_df['ndvi'] = ((MYD09_df.nir-MYD09_df.red)/(MYD09_df.nir+MYD09_df.red))\n"
   ]
  },
  {
   "cell_type": "code",
   "execution_count": null,
   "metadata": {
    "collapsed": true
   },
   "outputs": [],
   "source": []
  },
  {
   "cell_type": "code",
   "execution_count": null,
   "metadata": {
    "collapsed": true
   },
   "outputs": [],
   "source": []
  }
 ],
 "metadata": {
  "kernelspec": {
   "display_name": "Python 2",
   "language": "python",
   "name": "python2"
  }
 },
 "nbformat": 4,
 "nbformat_minor": 2
}
